{
 "cells": [
  {
   "cell_type": "markdown",
   "metadata": {},
   "source": [
    "# Import Data"
   ]
  },
  {
   "cell_type": "code",
   "execution_count": 4,
   "metadata": {
    "slideshow": {
     "slide_type": "notes"
    }
   },
   "outputs": [
    {
     "data": {
      "text/html": [
       "<div>\n",
       "<style scoped>\n",
       "    .dataframe tbody tr th:only-of-type {\n",
       "        vertical-align: middle;\n",
       "    }\n",
       "\n",
       "    .dataframe tbody tr th {\n",
       "        vertical-align: top;\n",
       "    }\n",
       "\n",
       "    .dataframe thead th {\n",
       "        text-align: right;\n",
       "    }\n",
       "</style>\n",
       "<table border=\"1\" class=\"dataframe\">\n",
       "  <thead>\n",
       "    <tr style=\"text-align: right;\">\n",
       "      <th></th>\n",
       "      <th>user_id</th>\n",
       "      <th>age</th>\n",
       "      <th>male</th>\n",
       "      <th>friend_cnt</th>\n",
       "      <th>avg_friend_age</th>\n",
       "      <th>avg_friend_male</th>\n",
       "      <th>friend_country_cnt</th>\n",
       "      <th>subscriber_friend_cnt</th>\n",
       "      <th>songsListened</th>\n",
       "      <th>lovedTracks</th>\n",
       "      <th>...</th>\n",
       "      <th>delta_subscriber_friend_cnt</th>\n",
       "      <th>delta_songsListened</th>\n",
       "      <th>delta_lovedTracks</th>\n",
       "      <th>delta_posts</th>\n",
       "      <th>delta_playlists</th>\n",
       "      <th>delta_shouts</th>\n",
       "      <th>tenure</th>\n",
       "      <th>good_country</th>\n",
       "      <th>delta_good_country</th>\n",
       "      <th>adopter</th>\n",
       "    </tr>\n",
       "  </thead>\n",
       "  <tbody>\n",
       "    <tr>\n",
       "      <th>0</th>\n",
       "      <td>10</td>\n",
       "      <td>24</td>\n",
       "      <td>0</td>\n",
       "      <td>20</td>\n",
       "      <td>26.333333</td>\n",
       "      <td>0.777778</td>\n",
       "      <td>6</td>\n",
       "      <td>0</td>\n",
       "      <td>37804</td>\n",
       "      <td>4</td>\n",
       "      <td>...</td>\n",
       "      <td>0</td>\n",
       "      <td>54</td>\n",
       "      <td>0</td>\n",
       "      <td>0</td>\n",
       "      <td>0</td>\n",
       "      <td>0</td>\n",
       "      <td>79</td>\n",
       "      <td>0</td>\n",
       "      <td>0</td>\n",
       "      <td>0</td>\n",
       "    </tr>\n",
       "  </tbody>\n",
       "</table>\n",
       "<p>1 rows × 27 columns</p>\n",
       "</div>"
      ],
      "text/plain": [
       "   user_id  age  male  friend_cnt  avg_friend_age  avg_friend_male  \\\n",
       "0       10   24     0          20       26.333333         0.777778   \n",
       "\n",
       "   friend_country_cnt  subscriber_friend_cnt  songsListened  lovedTracks  ...  \\\n",
       "0                   6                      0          37804            4  ...   \n",
       "\n",
       "   delta_subscriber_friend_cnt  delta_songsListened  delta_lovedTracks  \\\n",
       "0                            0                   54                  0   \n",
       "\n",
       "   delta_posts  delta_playlists  delta_shouts  tenure  good_country  \\\n",
       "0            0                0             0      79             0   \n",
       "\n",
       "   delta_good_country  adopter  \n",
       "0                   0        0  \n",
       "\n",
       "[1 rows x 27 columns]"
      ]
     },
     "execution_count": 4,
     "metadata": {},
     "output_type": "execute_result"
    }
   ],
   "source": [
    "import pandas as pd\n",
    "from sklearn.preprocessing import MinMaxScaler\n",
    "from sklearn.pipeline import Pipeline\n",
    "\n",
    "labeledData = pd.read_csv(r'../Data/LabelData.csv')\n",
    "UnlabeledData = pd.read_csv(r'../Data/UnlabelData.csv')\n",
    "NormalizedData = labeledData\n",
    "labeledData.head(1)\n"
   ]
  },
  {
   "attachments": {},
   "cell_type": "markdown",
   "metadata": {},
   "source": [
    "# Normalize Data"
   ]
  },
  {
   "cell_type": "code",
   "execution_count": 5,
   "metadata": {},
   "outputs": [
    {
     "data": {
      "text/html": [
       "<div>\n",
       "<style scoped>\n",
       "    .dataframe tbody tr th:only-of-type {\n",
       "        vertical-align: middle;\n",
       "    }\n",
       "\n",
       "    .dataframe tbody tr th {\n",
       "        vertical-align: top;\n",
       "    }\n",
       "\n",
       "    .dataframe thead th {\n",
       "        text-align: right;\n",
       "    }\n",
       "</style>\n",
       "<table border=\"1\" class=\"dataframe\">\n",
       "  <thead>\n",
       "    <tr style=\"text-align: right;\">\n",
       "      <th></th>\n",
       "      <th>user_id</th>\n",
       "      <th>age</th>\n",
       "      <th>male</th>\n",
       "      <th>friend_cnt</th>\n",
       "      <th>avg_friend_age</th>\n",
       "      <th>avg_friend_male</th>\n",
       "      <th>friend_country_cnt</th>\n",
       "      <th>subscriber_friend_cnt</th>\n",
       "      <th>songsListened</th>\n",
       "      <th>lovedTracks</th>\n",
       "      <th>...</th>\n",
       "      <th>delta_subscriber_friend_cnt</th>\n",
       "      <th>delta_songsListened</th>\n",
       "      <th>delta_lovedTracks</th>\n",
       "      <th>delta_posts</th>\n",
       "      <th>delta_playlists</th>\n",
       "      <th>delta_shouts</th>\n",
       "      <th>tenure</th>\n",
       "      <th>good_country</th>\n",
       "      <th>delta_good_country</th>\n",
       "      <th>adopter</th>\n",
       "    </tr>\n",
       "  </thead>\n",
       "  <tbody>\n",
       "    <tr>\n",
       "      <th>0</th>\n",
       "      <td>10</td>\n",
       "      <td>0.225352</td>\n",
       "      <td>0</td>\n",
       "      <td>0.002952</td>\n",
       "      <td>0.254902</td>\n",
       "      <td>0.777778</td>\n",
       "      <td>0.04918</td>\n",
       "      <td>0.0</td>\n",
       "      <td>0.040986</td>\n",
       "      <td>0.000071</td>\n",
       "      <td>...</td>\n",
       "      <td>0.424242</td>\n",
       "      <td>0.333894</td>\n",
       "      <td>0.016429</td>\n",
       "      <td>0.000079</td>\n",
       "      <td>0.2</td>\n",
       "      <td>0.181343</td>\n",
       "      <td>0.709091</td>\n",
       "      <td>0</td>\n",
       "      <td>0</td>\n",
       "      <td>0</td>\n",
       "    </tr>\n",
       "  </tbody>\n",
       "</table>\n",
       "<p>1 rows × 27 columns</p>\n",
       "</div>"
      ],
      "text/plain": [
       "   user_id       age  male  friend_cnt  avg_friend_age  avg_friend_male  \\\n",
       "0       10  0.225352     0    0.002952        0.254902         0.777778   \n",
       "\n",
       "   friend_country_cnt  subscriber_friend_cnt  songsListened  lovedTracks  ...  \\\n",
       "0             0.04918                    0.0       0.040986     0.000071  ...   \n",
       "\n",
       "   delta_subscriber_friend_cnt  delta_songsListened  delta_lovedTracks  \\\n",
       "0                     0.424242             0.333894           0.016429   \n",
       "\n",
       "   delta_posts  delta_playlists  delta_shouts    tenure  good_country  \\\n",
       "0     0.000079              0.2      0.181343  0.709091             0   \n",
       "\n",
       "   delta_good_country  adopter  \n",
       "0                   0        0  \n",
       "\n",
       "[1 rows x 27 columns]"
      ]
     },
     "execution_count": 5,
     "metadata": {},
     "output_type": "execute_result"
    }
   ],
   "source": [
    "# Define continuous columns\n",
    "continuous_columns = [\n",
    "    \"age\", \"friend_cnt\", \"avg_friend_age\", \"avg_friend_male\", \"friend_country_cnt\",\n",
    "    \"subscriber_friend_cnt\", \"songsListened\", \"lovedTracks\", \"posts\", \"playlists\", \"shouts\",\n",
    "    \"delta_friend_cnt\", \"delta_avg_friend_age\", \"delta_avg_friend_male\", \"delta_friend_country_cnt\",\n",
    "    \"delta_subscriber_friend_cnt\", \"delta_songsListened\", \"delta_lovedTracks\", \"delta_posts\", \"delta_playlists\", \"delta_shouts\", \"tenure\"\n",
    "]\n",
    "\n",
    "# Define preprocessing pipeline\n",
    "preprocessing_pipeline = Pipeline([\n",
    "    ('scaler', MinMaxScaler())\n",
    "])\n",
    "\n",
    "# Apply preprocessing pipeline to continuous variables\n",
    "NormalizedData[continuous_columns] = preprocessing_pipeline.fit_transform(\n",
    "    NormalizedData[continuous_columns])\n",
    "NormalizedData.head(1)\n"
   ]
  },
  {
   "attachments": {},
   "cell_type": "markdown",
   "metadata": {},
   "source": [
    "# Feature Selection"
   ]
  },
  {
   "cell_type": "code",
   "execution_count": 7,
   "metadata": {},
   "outputs": [],
   "source": [
    "import matplotlib.pyplot as plt\n",
    "import numpy as np\n",
    "from sklearn.metrics import f1_score\n",
    "from sklearn.model_selection import train_test_split\n",
    "from sklearn.preprocessing import StandardScaler\n",
    "from imblearn.over_sampling import RandomOverSampler\n",
    "from sklearn.feature_selection import RFE\n",
    "from sklearn.ensemble import RandomForestClassifier, VotingClassifier, StackingClassifier\n",
    "from sklearn.neural_network import MLPClassifier\n",
    "from tensorflow.keras.models import Sequential, clone_model\n",
    "from tensorflow.keras.layers import Dense, Dropout\n",
    "from tensorflow.keras.callbacks import EarlyStopping\n",
    "from tensorflow.keras.optimizers import Adam\n",
    "import tensorflow as tf\n",
    "import keras_tuner\n",
    "from tensorflow import keras\n",
    "from keras_tuner.tuners import RandomSearch\n"
   ]
  },
  {
   "cell_type": "code",
   "execution_count": 11,
   "metadata": {},
   "outputs": [
    {
     "name": "stdout",
     "output_type": "stream",
     "text": [
      "Index(['age', 'friend_cnt', 'avg_friend_age', 'avg_friend_male',\n",
      "       'songsListened', 'lovedTracks', 'shouts', 'delta_avg_friend_age',\n",
      "       'delta_songsListened', 'tenure'],\n",
      "      dtype='object')\n"
     ]
    }
   ],
   "source": [
    "# Load the data\n",
    "X = labeledData.drop(['adopter', 'user_id'], axis=1)\n",
    "y = labeledData['adopter']\n",
    "\n",
    "# Perform feature selection using RFE\n",
    "selector = RFE(estimator=RandomForestClassifier(), n_features_to_select=10, step=1)\n",
    "selector = selector.fit(X, y)\n",
    "selected_features = X.columns[selector.support_]\n",
    "\n",
    "# Use the selected features\n",
    "X_selected = X[selected_features]\n",
    "\n",
    "print(selected_features)\n"
   ]
  },
  {
   "attachments": {},
   "cell_type": "markdown",
   "metadata": {},
   "source": [
    "# Neural Network(NN) Model"
   ]
  },
  {
   "cell_type": "code",
   "execution_count": 18,
   "metadata": {},
   "outputs": [],
   "source": [
    "# Train-test split\n",
    "X_train, X_test, y_train, y_test = train_test_split(X_selected, y, test_size=0.3, random_state=42)\n",
    "\n",
    "# Normalize the data\n",
    "scaler = StandardScaler()\n",
    "X_train = scaler.fit_transform(X_train)\n",
    "X_test = scaler.transform(X_test)\n",
    "\n",
    "# Create a Neural Network model\n",
    "def create_model():\n",
    "    Dropout_Rate = 0.65\n",
    "    model = Sequential()\n",
    "    model.add(Dense(256, input_dim=X_train.shape[1], activation='relu'))\n",
    "    model.add(Dropout(Dropout_Rate))\n",
    "    model.add(Dense(128, activation='relu'))\n",
    "    model.add(Dropout(Dropout_Rate))\n",
    "    model.add(Dense(64, activation='relu'))\n",
    "    model.add(Dropout(Dropout_Rate))\n",
    "    model.add(Dense(32, activation='relu'))\n",
    "    model.add(Dropout(Dropout_Rate))\n",
    "    model.add(Dense(1, activation='sigmoid'))\n",
    "\n",
    "    optimizer = Adam(learning_rate=0.001)\n",
    "    model.compile(loss='binary_crossentropy',\n",
    "                  optimizer=optimizer, metrics=['accuracy'])\n",
    "    return model\n"
   ]
  },
  {
   "cell_type": "markdown",
   "metadata": {},
   "source": [
    "# NN Random Oversampling"
   ]
  },
  {
   "cell_type": "code",
   "execution_count": 19,
   "metadata": {},
   "outputs": [
    {
     "name": "stdout",
     "output_type": "stream",
     "text": [
      "545/545 [==============================] - 0s 615us/step\n",
      "Run 1: F1 Score: 0.09672131147540984\n",
      "Restoring model weights from the end of the best epoch: 27.\n",
      "Epoch 37: early stopping\n",
      "545/545 [==============================] - 0s 633us/step\n",
      "Run 2: F1 Score: 0.09846755787414412\n",
      "Restoring model weights from the end of the best epoch: 34.\n",
      "Epoch 44: early stopping\n",
      "545/545 [==============================] - 0s 611us/step\n",
      "Run 3: F1 Score: 0.09589993050729674\n",
      "545/545 [==============================] - 0s 752us/step\n",
      "Run 4: F1 Score: 0.08895265423242465\n",
      "545/545 [==============================] - 0s 674us/step\n",
      "Run 5: F1 Score: 0.09562943593574898\n",
      "Average F1 Score: 0.09513417800500487\n"
     ]
    },
    {
     "name": "stderr",
     "output_type": "stream",
     "text": [
      "C:\\Users\\Marcu\\AppData\\Local\\Packages\\PythonSoftwareFoundation.Python.3.10_qbz5n2kfra8p0\\LocalCache\\local-packages\\Python310\\site-packages\\numpy\\core\\_methods.py:164: VisibleDeprecationWarning: Creating an ndarray from ragged nested sequences (which is a list-or-tuple of lists-or-tuples-or ndarrays with different lengths or shapes) is deprecated. If you meant to do this, you must specify 'dtype=object' when creating the ndarray.\n",
      "  arr = asanyarray(a)\n"
     ]
    },
    {
     "data": {
      "image/png": "[encoded data removed]",
      "text/plain": [
       "<Figure size 640x480 with 1 Axes>"
      ]
     },
     "metadata": {},
     "output_type": "display_data"
    }
   ],
   "source": [
    "early_stopping = EarlyStopping(monitor='val_loss', min_delta=0.001, patience=10, verbose=3, restore_best_weights=True)\n",
    "\n",
    "f1_scores = []\n",
    "training_losses = []\n",
    "validation_losses = []\n",
    "\n",
    "for i in range(5):\n",
    "    # Apply RandomOverSampler to balance the training dataset\n",
    "    ros = RandomOverSampler(random_state=42)\n",
    "    X_train_balanced, y_train_balanced = ros.fit_resample(X_train, y_train)\n",
    "\n",
    "    # Clone the model\n",
    "    model_1 = create_model()\n",
    "\n",
    "    # Train the model\n",
    "    history = model_1.fit(X_train_balanced, y_train_balanced,\n",
    "                          epochs=60, batch_size=128,\n",
    "                          verbose=0, callbacks=[early_stopping],\n",
    "                          validation_split=0.3)\n",
    "    # Evaluate the model\n",
    "    y_pred = (model_1.predict(X_test) > 0.5).astype(int)\n",
    "    f1 = f1_score(y_test, y_pred)\n",
    "    print(f\"Run {i+1}: F1 Score: {f1}\")\n",
    "    training_losses.append(history.history['loss'])\n",
    "    validation_losses.append(history.history['val_loss'])\n",
    "    f1_scores.append(f1)\n",
    "\n",
    "    if f1 < 0.085:\n",
    "        print(\"Breaking the loop due to low F1 score.\")\n",
    "        break\n",
    "\n",
    "average_f1 = np.mean(f1_scores)\n",
    "print(f\"Average F1 Score: {average_f1}\")\n",
    "\n",
    "# Calculate the average training and validation losses over all runs\n",
    "avg_training_loss = np.mean(training_losses, axis=0)\n",
    "avg_validation_loss = np.mean(validation_losses, axis=0)\n",
    "\n",
    "# Plot the average training and validation losses\n",
    "plt.plot(avg_training_loss, label='Average Training Loss')\n",
    "plt.plot(avg_validation_loss, label='Average Validation Loss')\n",
    "plt.xlabel('Epochs')\n",
    "plt.ylabel('Loss')\n",
    "plt.legend()\n",
    "plt.show()\n"
   ]
  },
  {
   "cell_type": "code",
   "execution_count": 20,
   "metadata": {},
   "outputs": [
    {
     "name": "stdout",
     "output_type": "stream",
     "text": [
      "Model: \"sequential_15\"\n",
      "_________________________________________________________________\n",
      " Layer (type)                Output Shape              Param #   \n",
      "=================================================================\n",
      " dense_75 (Dense)            (None, 256)               2816      \n",
      "                                                                 \n",
      " dropout_60 (Dropout)        (None, 256)               0         \n",
      "                                                                 \n",
      " dense_76 (Dense)            (None, 128)               32896     \n",
      "                                                                 \n",
      " dropout_61 (Dropout)        (None, 128)               0         \n",
      "                                                                 \n",
      " dense_77 (Dense)            (None, 64)                8256      \n",
      "                                                                 \n",
      " dropout_62 (Dropout)        (None, 64)                0         \n",
      "                                                                 \n",
      " dense_78 (Dense)            (None, 32)                2080      \n",
      "                                                                 \n",
      " dropout_63 (Dropout)        (None, 32)                0         \n",
      "                                                                 \n",
      " dense_79 (Dense)            (None, 1)                 33        \n",
      "                                                                 \n",
      "=================================================================\n",
      "Total params: 46,081\n",
      "Trainable params: 46,081\n",
      "Non-trainable params: 0\n",
      "_________________________________________________________________\n"
     ]
    }
   ],
   "source": [
    "# print(avg_training_loss, avg_validation_loss)\n",
    "# Top record F1 Score: 0.10181818181818182\n",
    "# Top Avg F1 Score: 0.09555316133087799\n",
    "model_1.summary()\n"
   ]
  },
  {
   "attachments": {},
   "cell_type": "markdown",
   "metadata": {},
   "source": [
    "### Improvement Ideas\n",
    "\n",
    "- Introduce 5 Folds, Have the model split each fold 7:3, Train, then Test within each fold producing a F1 score, then ensemble the models from each fold to produce a \"best model\"\n",
    "- Experiment with different architectures & hyperparameters\n",
    "\n",
    "By messing with the architecture, specifically making the last later reduce nodes by /4 instead of /2, we were able to get results above .1, however the model was inconsistent. The current state, we are attempting to improve consistency to a margin of 0.002 and are slowly improving the F1 score of out models, typically by an increment of 0.01, per positive change. \n",
    "\n",
    "- Top record F1 Score: 0.10181818181818182\n",
    "- Top Avg F1 Score: 0.09555316133087799\n"
   ]
  }
 ],
 "metadata": {
  "kernelspec": {
   "display_name": "Python 3",
   "language": "python",
   "name": "python3"
  },
  "language_info": {
   "codemirror_mode": {
    "name": "ipython",
    "version": 3
   },
   "file_extension": ".py",
   "mimetype": "text/x-python",
   "name": "python",
   "nbconvert_exporter": "python",
   "pygments_lexer": "ipython3",
   "version": "3.10.10"
  },
  "orig_nbformat": 4
 },
 "nbformat": 4,
 "nbformat_minor": 2
}
