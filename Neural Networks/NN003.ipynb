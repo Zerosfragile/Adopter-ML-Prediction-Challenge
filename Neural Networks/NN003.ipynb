{
 "cells": [
  {
   "attachments": {},
   "cell_type": "markdown",
   "metadata": {},
   "source": [
    "# Adoption Prediction\n",
    "build the best predictive  model for the next marketing\n",
    "campaign,  i.e.,  for  predicting  likely  adopters  (that  is,  which  current  non -\n",
    "                                                      subscribers  are  likely  to  respond  to  the  marketing  campaign and sign  up for\n",
    "                                                      the  premium  service  within  6  months  after  the  campaign).\n",
    "## Model Targets\n",
    "- Beat f1 score: 0.12\n",
    "- NN002 f1 score: 0.111"
   ]
  },
  {
   "cell_type": "markdown",
   "metadata": {},
   "source": [
    "# Import Data"
   ]
  },
  {
   "cell_type": "code",
   "execution_count": 4,
   "metadata": {
    "slideshow": {
     "slide_type": "notes"
    }
   },
   "outputs": [
    {
     "data": {
      "text/html": [
       "<div>\n",
       "<style scoped>\n",
       "    .dataframe tbody tr th:only-of-type {\n",
       "        vertical-align: middle;\n",
       "    }\n",
       "\n",
       "    .dataframe tbody tr th {\n",
       "        vertical-align: top;\n",
       "    }\n",
       "\n",
       "    .dataframe thead th {\n",
       "        text-align: right;\n",
       "    }\n",
       "</style>\n",
       "<table border=\"1\" class=\"dataframe\">\n",
       "  <thead>\n",
       "    <tr style=\"text-align: right;\">\n",
       "      <th></th>\n",
       "      <th>user_id</th>\n",
       "      <th>age</th>\n",
       "      <th>male</th>\n",
       "      <th>friend_cnt</th>\n",
       "      <th>avg_friend_age</th>\n",
       "      <th>avg_friend_male</th>\n",
       "      <th>friend_country_cnt</th>\n",
       "      <th>subscriber_friend_cnt</th>\n",
       "      <th>songsListened</th>\n",
       "      <th>lovedTracks</th>\n",
       "      <th>...</th>\n",
       "      <th>delta_subscriber_friend_cnt</th>\n",
       "      <th>delta_songsListened</th>\n",
       "      <th>delta_lovedTracks</th>\n",
       "      <th>delta_posts</th>\n",
       "      <th>delta_playlists</th>\n",
       "      <th>delta_shouts</th>\n",
       "      <th>tenure</th>\n",
       "      <th>good_country</th>\n",
       "      <th>delta_good_country</th>\n",
       "      <th>adopter</th>\n",
       "    </tr>\n",
       "  </thead>\n",
       "  <tbody>\n",
       "    <tr>\n",
       "      <th>0</th>\n",
       "      <td>10</td>\n",
       "      <td>24</td>\n",
       "      <td>0</td>\n",
       "      <td>20</td>\n",
       "      <td>26.333333</td>\n",
       "      <td>0.777778</td>\n",
       "      <td>6</td>\n",
       "      <td>0</td>\n",
       "      <td>37804</td>\n",
       "      <td>4</td>\n",
       "      <td>...</td>\n",
       "      <td>0</td>\n",
       "      <td>54</td>\n",
       "      <td>0</td>\n",
       "      <td>0</td>\n",
       "      <td>0</td>\n",
       "      <td>0</td>\n",
       "      <td>79</td>\n",
       "      <td>0</td>\n",
       "      <td>0</td>\n",
       "      <td>0</td>\n",
       "    </tr>\n",
       "  </tbody>\n",
       "</table>\n",
       "<p>1 rows × 27 columns</p>\n",
       "</div>"
      ],
      "text/plain": [
       "   user_id  age  male  friend_cnt  avg_friend_age  avg_friend_male  \\\n",
       "0       10   24     0          20       26.333333         0.777778   \n",
       "\n",
       "   friend_country_cnt  subscriber_friend_cnt  songsListened  lovedTracks  ...  \\\n",
       "0                   6                      0          37804            4  ...   \n",
       "\n",
       "   delta_subscriber_friend_cnt  delta_songsListened  delta_lovedTracks  \\\n",
       "0                            0                   54                  0   \n",
       "\n",
       "   delta_posts  delta_playlists  delta_shouts  tenure  good_country  \\\n",
       "0            0                0             0      79             0   \n",
       "\n",
       "   delta_good_country  adopter  \n",
       "0                   0        0  \n",
       "\n",
       "[1 rows x 27 columns]"
      ]
     },
     "execution_count": 4,
     "metadata": {},
     "output_type": "execute_result"
    }
   ],
   "source": [
    "import pandas as pd\n",
    "labeledData = pd.read_csv(r'../Data/LabelData.csv')\n",
    "UnlabeledData = pd.read_csv(r'../Data/UnlabelData.csv')\n",
    "labeledData.head(1)\n"
   ]
  },
  {
   "attachments": {},
   "cell_type": "markdown",
   "metadata": {},
   "source": [
    "# NN Libraries"
   ]
  },
  {
   "cell_type": "code",
   "execution_count": 20,
   "metadata": {},
   "outputs": [],
   "source": [
    "import matplotlib.pyplot as plt\n",
    "import numpy as np\n",
    "from sklearn.metrics import f1_score\n",
    "from sklearn.model_selection import train_test_split\n",
    "from sklearn.preprocessing import StandardScaler\n",
    "from imblearn.over_sampling import RandomOverSampler\n",
    "from imblearn.over_sampling import SMOTE\n",
    "from sklearn.feature_selection import RFE\n",
    "from sklearn.ensemble import RandomForestClassifier, VotingClassifier, StackingClassifier\n",
    "from sklearn.neural_network import MLPClassifier\n",
    "from tensorflow.keras.models import Sequential, clone_model\n",
    "from tensorflow.keras.layers import Dense, Dropout\n",
    "from tensorflow.keras.callbacks import EarlyStopping\n",
    "from tensorflow.keras.optimizers import Adam\n",
    "from sklearn.utils import shuffle\n",
    "import tensorflow as tf\n",
    "import keras_tuner\n",
    "from tensorflow import keras\n",
    "from keras_tuner.tuners import RandomSearch\n",
    "\n"
   ]
  },
  {
   "cell_type": "code",
   "execution_count": 7,
   "metadata": {},
   "outputs": [],
   "source": [
    "# setting fixed seed value for consistency in results\n",
    "seed = 42\n",
    "np.random.seed(seed)"
   ]
  },
  {
   "cell_type": "code",
   "execution_count": 6,
   "metadata": {},
   "outputs": [
    {
     "name": "stdout",
     "output_type": "stream",
     "text": [
      "Number of train instances: 40653\n",
      "Number of test instances: 17424\n"
     ]
    }
   ],
   "source": [
    "# Load the data\n",
    "X = labeledData.drop(['adopter', 'user_id'], axis=1)\n",
    "y = labeledData['adopter']\n",
    "\n",
    "# Train-test split 7:3\n",
    "X_train, X_test, y_train, y_test = train_test_split(\n",
    "    X, y, test_size=0.3, random_state=42)\n",
    "\n",
    "print (\"Number of train instances: {}\".format(len(X_train)))\n",
    "print (\"Number of test instances: {}\".format(len(X_test)))"
   ]
  },
  {
   "cell_type": "code",
   "execution_count": 56,
   "metadata": {},
   "outputs": [
    {
     "name": "stdout",
     "output_type": "stream",
     "text": [
      "Number of minority instances: 1029\n",
      "Number of normal instances: 6000 \n",
      "Total: 7029\n"
     ]
    }
   ],
   "source": [
    "# fetching the indices of minority instances\n",
    "adopting_indices = np.array(labeledData[labeledData.adopter == 1].index)\n",
    "\n",
    "# fetching indices of normal instances\n",
    "non_adopting_indices = labeledData[labeledData.adopter == 0].index\n",
    "\n",
    "# randomly select 1540 normal instances to create a partitioned balanced dataset\n",
    "# num_non_adopting_to_sample = 5040\n",
    "num_non_adopting_to_sample = 6000\n",
    "random_non_adopting_indices = np.random.choice(non_adopting_indices,\n",
    "                                               num_non_adopting_to_sample,\n",
    "                                               replace=False)\n",
    "random_non_adopting_indices = np.array(random_non_adopting_indices)\n",
    "\n",
    "# combining both the instance groups (minority and the new random set)\n",
    "undersampled_indices = np.concatenate(\n",
    "    [adopting_indices, random_non_adopting_indices])\n",
    "\n",
    "# creating the undersampled dataset\n",
    "undersampled_data = labeledData.iloc[undersampled_indices, :]\n",
    "\n",
    "# shuffling the new dataset\n",
    "undersampled_data = shuffle(undersampled_data)\n",
    "\n",
    "# storing the features(X) and predictor class(y)\n",
    "cols_to_exclude = ['adopter', 'user_id']\n",
    "X_undersample = undersampled_data.loc[:, ~\n",
    "                                      undersampled_data.columns.isin(cols_to_exclude)]\n",
    "y_undersample = undersampled_data.iloc[:,\n",
    "                                       undersampled_data.columns == 'adopter']\n",
    "\n",
    "print(\"Number of minority instances: {}\\nNumber of normal instances: {} \\nTotal: {}\".format(len(undersampled_data[undersampled_data.adopter == 1]),\n",
    "                                                                                            len(\n",
    "                                                                                                undersampled_data[undersampled_data.adopter == 0]),\n",
    "                                                                                            len(undersampled_data)))\n"
   ]
  },
  {
   "cell_type": "code",
   "execution_count": 50,
   "metadata": {},
   "outputs": [
    {
     "name": "stdout",
     "output_type": "stream",
     "text": [
      "Undersampled Data:\n",
      "Number of train instances: 4248\n",
      "Number of test instances: 1821\n"
     ]
    }
   ],
   "source": [
    "# splitting original dataset into features and predictor\n",
    "X = undersampled_data.loc[:, ~undersampled_data.columns.isin(cols_to_exclude)]\n",
    "y = undersampled_data.iloc[:, labeledData.columns == 'adopter']\n",
    "\n",
    "# splitting the original dataset for cross-validation (0.7 train, 0.3 test)\n",
    "X_train, X_test, y_train, y_test = train_test_split(\n",
    "    X, y, test_size=0.3, random_state=0)\n",
    "\n",
    "# Normalize the data\n",
    "scaler = StandardScaler()\n",
    "X_train = scaler.fit_transform(X_train)\n",
    "X_test = scaler.transform(X_test)\n",
    "\n",
    "print(\"Undersampled Data:\")\n",
    "print(\"Number of train instances: {}\".format(len(X_train)))\n",
    "print(\"Number of test instances: {}\".format(len(X_test)))\n"
   ]
  },
  {
   "cell_type": "code",
   "execution_count": 30,
   "metadata": {},
   "outputs": [],
   "source": [
    "sm = SMOTE(random_state = seed, sampling_strategy='auto')\n",
    "X_train_smoted_np, y_train_smoted_np = sm.fit_resample(X_train, y_train)"
   ]
  },
  {
   "cell_type": "code",
   "execution_count": 33,
   "metadata": {},
   "outputs": [
    {
     "name": "stdout",
     "output_type": "stream",
     "text": [
      "Number of SMOTEd instances: 7038\n",
      "Number of SMOTEd non-adopters (adopter = 0): 7038\n",
      "Number of SMOTEd adopters (adopter = 1): 7038\n"
     ]
    }
   ],
   "source": [
    "# # checking the lengths of new training set\n",
    "\n",
    "print (\"Number of SMOTEd instances: {}\".format(len(X_train_smoted_np)))\n",
    "\n",
    "y_train_smoted_non_adopters = y_train_smoted_np[y_train_smoted_np == 1]\n",
    "y_train_smoted_adopters = y_train_smoted_np[y_train_smoted_np == 0]\n",
    "\n",
    "print (\"Number of SMOTEd non-adopters (adopter = 0): {}\".format(len(y_train_smoted_non_adopters)))\n",
    "print (\"Number of SMOTEd adopters (adopter = 1): {}\".format(len(y_train_smoted_adopters)))\n"
   ]
  },
  {
   "attachments": {},
   "cell_type": "markdown",
   "metadata": {},
   "source": [
    "# Neural Network(NN) Model"
   ]
  },
  {
   "cell_type": "code",
   "execution_count": 45,
   "metadata": {},
   "outputs": [],
   "source": [
    "\n",
    "# Create a Neural Network model\n",
    "def create_model():\n",
    "    Dropout_Rate = 0.5\n",
    "    model = Sequential()\n",
    "    model.add(Dense(256, input_dim=X_train.shape[1], activation='relu'))\n",
    "    model.add(Dropout(Dropout_Rate))\n",
    "    model.add(Dense(128, activation='relu'))\n",
    "    model.add(Dropout(Dropout_Rate))\n",
    "    model.add(Dense(64, activation='relu'))\n",
    "    model.add(Dropout(Dropout_Rate))\n",
    "    model.add(Dense(32, activation='relu'))\n",
    "    model.add(Dropout(Dropout_Rate))\n",
    "    model.add(Dense(1, activation='sigmoid'))\n",
    "\n",
    "    optimizer = Adam(learning_rate=0.001)\n",
    "    model.compile(loss='binary_crossentropy',\n",
    "                  optimizer=optimizer, metrics=['accuracy'])\n",
    "    return model\n"
   ]
  },
  {
   "cell_type": "markdown",
   "metadata": {},
   "source": [
    "# NN Random Oversampling"
   ]
  },
  {
   "cell_type": "code",
   "execution_count": 57,
   "metadata": {},
   "outputs": [
    {
     "name": "stdout",
     "output_type": "stream",
     "text": [
      "57/57 [==============================] - 0s 1ms/step\n",
      "Run 1: F1 Score: 0.5184426229508197\n",
      "57/57 [==============================] - 0s 637us/step\n",
      "Run 2: F1 Score: 0.5253164556962026\n",
      "57/57 [==============================] - 0s 700us/step\n",
      "Run 3: F1 Score: 0.5009523809523809\n",
      "57/57 [==============================] - 0s 652us/step\n",
      "Run 4: F1 Score: 0.5337552742616034\n",
      "57/57 [==============================] - 0s 933us/step\n",
      "Run 5: F1 Score: 0.543123543123543\n",
      "Average F1 Score: 0.52431805539691\n"
     ]
    },
    {
     "data": {
      "image/png": "[encoded data removed]",
      "text/plain": [
       "<Figure size 640x480 with 1 Axes>"
      ]
     },
     "metadata": {},
     "output_type": "display_data"
    }
   ],
   "source": [
    "early_stopping = EarlyStopping(monitor='val_loss', min_delta=0.001, patience=20, verbose=3, restore_best_weights=True)\n",
    "\n",
    "f1_scores = []\n",
    "training_losses = []\n",
    "validation_losses = []\n",
    "\n",
    "for i in range(5):\n",
    "    # Clone the model\n",
    "    model_1 = create_model()\n",
    "\n",
    "    # Train the model\n",
    "    history = model_1.fit(X_train_smoted_np, y_train_smoted_np,\n",
    "                          epochs=60, batch_size=128,\n",
    "                          verbose=0, callbacks=[early_stopping],\n",
    "                          validation_data=(X_test, y_test))\n",
    "    # Evaluate the model\n",
    "    y_pred = (model_1.predict(X_test) > 0.5).astype(int)\n",
    "    f1 = f1_score(y_test, y_pred)\n",
    "    print(f\"Run {i+1}: F1 Score: {f1}\")\n",
    "    training_losses.append(history.history['loss'])\n",
    "    validation_losses.append(history.history['val_loss'])\n",
    "    f1_scores.append(f1)\n",
    "\n",
    "    if f1 < 0.085:\n",
    "        print(\"Breaking the loop due to low F1 score.\")\n",
    "        break\n",
    "\n",
    "average_f1 = np.mean(f1_scores)\n",
    "print(f\"Average F1 Score: {average_f1}\")\n",
    "\n",
    "# Calculate the average training and validation losses over all runs\n",
    "avg_training_loss = np.mean(training_losses, axis=0)\n",
    "avg_validation_loss = np.mean(validation_losses, axis=0)\n",
    "\n",
    "# Plot the average training and validation losses\n",
    "plt.plot(avg_training_loss, label='Average Training Loss')\n",
    "plt.plot(avg_validation_loss, label='Average Validation Loss')\n",
    "plt.xlabel('Epochs')\n",
    "plt.ylabel('Loss')\n",
    "plt.legend()\n",
    "plt.show()\n"
   ]
  },
  {
   "cell_type": "code",
   "execution_count": 38,
   "metadata": {},
   "outputs": [
    {
     "name": "stdout",
     "output_type": "stream",
     "text": [
      "Model: \"sequential_9\"\n",
      "_________________________________________________________________\n",
      " Layer (type)                Output Shape              Param #   \n",
      "=================================================================\n",
      " dense_45 (Dense)            (None, 256)               6656      \n",
      "                                                                 \n",
      " dropout_36 (Dropout)        (None, 256)               0         \n",
      "                                                                 \n",
      " dense_46 (Dense)            (None, 128)               32896     \n",
      "                                                                 \n",
      " dropout_37 (Dropout)        (None, 128)               0         \n",
      "                                                                 \n",
      " dense_47 (Dense)            (None, 64)                8256      \n",
      "                                                                 \n",
      " dropout_38 (Dropout)        (None, 64)                0         \n",
      "                                                                 \n",
      " dense_48 (Dense)            (None, 32)                2080      \n",
      "                                                                 \n",
      " dropout_39 (Dropout)        (None, 32)                0         \n",
      "                                                                 \n",
      " dense_49 (Dense)            (None, 1)                 33        \n",
      "                                                                 \n",
      "=================================================================\n",
      "Total params: 49,921\n",
      "Trainable params: 49,921\n",
      "Non-trainable params: 0\n",
      "_________________________________________________________________\n"
     ]
    }
   ],
   "source": [
    "# print(avg_training_loss, avg_validation_loss)\n",
    "# Top record F1 Score: 0.543123543123543\n",
    "# Top Avg F1 Score: 0.52431805539691\n",
    "model_1.summary()\n"
   ]
  }
 ],
 "metadata": {
  "kernelspec": {
   "display_name": "Python 3",
   "language": "python",
   "name": "python3"
  },
  "language_info": {
   "codemirror_mode": {
    "name": "ipython",
    "version": 3
   },
   "file_extension": ".py",
   "mimetype": "text/x-python",
   "name": "python",
   "nbconvert_exporter": "python",
   "pygments_lexer": "ipython3",
   "version": "3.10.10"
  },
  "orig_nbformat": 4
 },
 "nbformat": 4,
 "nbformat_minor": 2
}
