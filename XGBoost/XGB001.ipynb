{
 "cells": [
  {
   "cell_type": "code",
   "execution_count": null,
   "metadata": {},
   "outputs": [],
   "source": [
    "import pandas as pd\n",
    "from sklearn.preprocessing import MinMaxScaler\n",
    "from sklearn.pipeline import Pipeline\n",
    "\n",
    "labeledData = pd.read_csv(r'../Data/LabelData.csv')\n",
    "UnlabeledData = pd.read_csv(r'../Data/UnlabelData.csv')\n",
    "NormalizedData = labeledData\n",
    "labeledData.head(1)"
   ]
  }
 ],
 "metadata": {
  "language_info": {
   "name": "python"
  },
  "orig_nbformat": 4
 },
 "nbformat": 4,
 "nbformat_minor": 2
}
